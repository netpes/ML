{
 "cells": [
  {
   "cell_type": "markdown",
   "source": [
    "\n",
    "# imports"
   ],
   "metadata": {
    "collapsed": false,
    "pycharm": {
     "name": "#%% md\n"
    }
   }
  },
  {
   "cell_type": "code",
   "execution_count": 831,
   "outputs": [],
   "source": [
    "import tensorflow.compat.v1 as tf\n",
    "tf.disable_v2_behavior()\n",
    "import numpy as np\n",
    "from numpy.random import seed\n",
    "seed(888)\n",
    "tf.set_random_seed(404)\n",
    "import os\n",
    "from PIL import Image\n",
    "from time import strftime"
   ],
   "metadata": {
    "collapsed": false,
    "pycharm": {
     "name": "#%%\n"
    },
    "ExecuteTime": {
     "end_time": "2023-05-24T13:53:12.978327600Z",
     "start_time": "2023-05-24T13:53:11.531047800Z"
    }
   }
  },
  {
   "cell_type": "markdown",
   "source": [
    "# Constants"
   ],
   "metadata": {
    "collapsed": false,
    "pycharm": {
     "name": "#%% md\n"
    }
   }
  },
  {
   "cell_type": "code",
   "execution_count": 832,
   "outputs": [],
   "source": [
    "X_TRAIN_PATH = 'MNIST/digit_xtrain.csv'\n",
    "X_TEST_PATH = 'MNIST/digit_xtest.csv'\n",
    "Y_TRAIN_PATH = 'MNIST/digit_ytrain.csv'\n",
    "Y_TEST_PATH = 'MNIST/digit_ytest.csv'\n",
    "\n",
    "LOGGING_PATH = \"tensorboard_mnist_digit_logs/\"\n",
    "NR_CLASSES = 10\n",
    "VALIDATION_SIZE = 10000\n",
    "IMAGE_WIDTH = 28\n",
    "IMAGE_HEIGHT = 28\n",
    "CHANNELS = 1\n",
    "TOTAL_INPUTS = IMAGE_HEIGHT * IMAGE_WIDTH * CHANNELS"
   ],
   "metadata": {
    "collapsed": false,
    "pycharm": {
     "name": "#%%\n"
    },
    "ExecuteTime": {
     "end_time": "2023-05-24T13:53:12.999532400Z",
     "start_time": "2023-05-24T13:53:11.566615Z"
    }
   }
  },
  {
   "cell_type": "code",
   "execution_count": 832,
   "outputs": [],
   "source": [],
   "metadata": {
    "collapsed": false,
    "ExecuteTime": {
     "end_time": "2023-05-24T13:53:13.049326100Z",
     "start_time": "2023-05-24T13:53:11.582657400Z"
    }
   }
  },
  {
   "cell_type": "markdown",
   "source": [
    "# Get The Data"
   ],
   "metadata": {
    "collapsed": false,
    "pycharm": {
     "name": "#%% md\n"
    }
   }
  },
  {
   "cell_type": "code",
   "execution_count": 833,
   "outputs": [
    {
     "name": "stdout",
     "output_type": "stream",
     "text": [
      "CPU times: total: 0 ns\n",
      "Wall time: 12.5 ms\n"
     ]
    }
   ],
   "source": [
    "%%time\n",
    "y_train_all= np.loadtxt(Y_TRAIN_PATH, delimiter=',', dtype=int)"
   ],
   "metadata": {
    "collapsed": false,
    "pycharm": {
     "name": "#%%\n"
    },
    "ExecuteTime": {
     "end_time": "2023-05-24T13:53:13.050327200Z",
     "start_time": "2023-05-24T13:53:11.598746300Z"
    }
   }
  },
  {
   "cell_type": "code",
   "execution_count": 834,
   "outputs": [
    {
     "name": "stdout",
     "output_type": "stream",
     "text": [
      "CPU times: total: 6.88 s\n",
      "Wall time: 6.95 s\n"
     ]
    }
   ],
   "source": [
    "%%time\n",
    "x_train_all = np.loadtxt(X_TRAIN_PATH, delimiter=',', dtype=int)"
   ],
   "metadata": {
    "collapsed": false,
    "pycharm": {
     "name": "#%%\n"
    },
    "ExecuteTime": {
     "end_time": "2023-05-24T13:53:18.604581200Z",
     "start_time": "2023-05-24T13:53:11.630353900Z"
    }
   }
  },
  {
   "cell_type": "code",
   "execution_count": 835,
   "outputs": [
    {
     "name": "stdout",
     "output_type": "stream",
     "text": [
      "CPU times: total: 1.11 s\n",
      "Wall time: 1.25 s\n"
     ]
    }
   ],
   "source": [
    "%%time\n",
    "x_test_all = np.loadtxt(X_TEST_PATH, delimiter=',', dtype=int)"
   ],
   "metadata": {
    "collapsed": false,
    "pycharm": {
     "name": "#%%\n"
    },
    "ExecuteTime": {
     "end_time": "2023-05-24T13:53:19.873556400Z",
     "start_time": "2023-05-24T13:53:18.608574200Z"
    }
   }
  },
  {
   "cell_type": "code",
   "execution_count": 836,
   "outputs": [
    {
     "name": "stdout",
     "output_type": "stream",
     "text": [
      "CPU times: total: 0 ns\n",
      "Wall time: 3.22 ms\n"
     ]
    }
   ],
   "source": [
    "%%time\n",
    "y_test = np.loadtxt(Y_TEST_PATH, delimiter=',', dtype=int)"
   ],
   "metadata": {
    "collapsed": false,
    "pycharm": {
     "name": "#%%\n"
    },
    "ExecuteTime": {
     "end_time": "2023-05-24T13:53:19.946918900Z",
     "start_time": "2023-05-24T13:53:19.877551700Z"
    }
   }
  },
  {
   "cell_type": "markdown",
   "source": [
    "# Explore"
   ],
   "metadata": {
    "collapsed": false,
    "pycharm": {
     "name": "#%% md\n"
    }
   }
  },
  {
   "cell_type": "code",
   "execution_count": 837,
   "outputs": [
    {
     "data": {
      "text/plain": "(60000, 784)"
     },
     "execution_count": 837,
     "metadata": {},
     "output_type": "execute_result"
    }
   ],
   "source": [
    "x_train_all.shape"
   ],
   "metadata": {
    "collapsed": false,
    "pycharm": {
     "name": "#%%\n"
    },
    "ExecuteTime": {
     "end_time": "2023-05-24T13:53:19.948472700Z",
     "start_time": "2023-05-24T13:53:19.894348700Z"
    }
   }
  },
  {
   "cell_type": "code",
   "execution_count": 838,
   "outputs": [
    {
     "data": {
      "text/plain": "(60000,)"
     },
     "execution_count": 838,
     "metadata": {},
     "output_type": "execute_result"
    }
   ],
   "source": [
    "y_train_all.shape"
   ],
   "metadata": {
    "collapsed": false,
    "pycharm": {
     "name": "#%%\n"
    },
    "ExecuteTime": {
     "end_time": "2023-05-24T13:53:19.948580100Z",
     "start_time": "2023-05-24T13:53:19.909450300Z"
    }
   }
  },
  {
   "cell_type": "markdown",
   "source": [
    "# Data PreProcessing"
   ],
   "metadata": {
    "collapsed": false,
    "pycharm": {
     "name": "#%% md\n"
    }
   }
  },
  {
   "cell_type": "code",
   "execution_count": 839,
   "outputs": [],
   "source": [
    "# Re-Scale\n",
    "x_train_all, x_test_all = x_train_all/255.0, x_test_all/255.0"
   ],
   "metadata": {
    "collapsed": false,
    "pycharm": {
     "name": "#%%\n"
    },
    "ExecuteTime": {
     "end_time": "2023-05-24T13:53:20.187069Z",
     "start_time": "2023-05-24T13:53:19.925091300Z"
    }
   }
  },
  {
   "cell_type": "markdown",
   "source": [
    "# Convert ttarget values to one-hot encoding:"
   ],
   "metadata": {
    "collapsed": false,
    "pycharm": {
     "name": "#%% md\n"
    }
   }
  },
  {
   "cell_type": "code",
   "execution_count": 840,
   "outputs": [],
   "source": [
    "y_train_all = np.eye(10)[y_train_all]\n",
    "y_test = np.eye(10)[y_test]"
   ],
   "metadata": {
    "collapsed": false,
    "pycharm": {
     "name": "#%%\n"
    },
    "ExecuteTime": {
     "end_time": "2023-05-24T13:53:20.242694600Z",
     "start_time": "2023-05-24T13:53:20.191687600Z"
    }
   }
  },
  {
   "cell_type": "code",
   "execution_count": 841,
   "outputs": [],
   "source": [
    "x_val = x_train_all[:VALIDATION_SIZE]\n",
    "y_val = y_train_all[:VALIDATION_SIZE]\n",
    "x_train = x_train_all[VALIDATION_SIZE:]\n",
    "y_train = y_train_all[VALIDATION_SIZE:]"
   ],
   "metadata": {
    "collapsed": false,
    "pycharm": {
     "name": "#%%\n"
    },
    "ExecuteTime": {
     "end_time": "2023-05-24T13:53:20.243692100Z",
     "start_time": "2023-05-24T13:53:20.221549800Z"
    }
   }
  },
  {
   "cell_type": "markdown",
   "source": [],
   "metadata": {
    "collapsed": false
   }
  },
  {
   "cell_type": "code",
   "execution_count": 842,
   "outputs": [],
   "source": [
    "X = tf.placeholder(tf.float32, [None, TOTAL_INPUTS], name=\"X\")\n",
    "Y = tf.placeholder(tf.float32, [None, NR_CLASSES], name='Y')\n"
   ],
   "metadata": {
    "collapsed": false,
    "pycharm": {
     "name": "#%%\n"
    },
    "ExecuteTime": {
     "end_time": "2023-05-24T13:53:20.249782400Z",
     "start_time": "2023-05-24T13:53:20.238689300Z"
    }
   }
  },
  {
   "cell_type": "markdown",
   "source": [
    "## Neural Network Architechture\n",
    "\n",
    "### Hyperparameters"
   ],
   "metadata": {
    "collapsed": false
   }
  },
  {
   "cell_type": "code",
   "execution_count": 843,
   "outputs": [],
   "source": [
    "nr_epochs = 50\n",
    "learning_rate = 0.001\n",
    "n_hidden1 = 512\n",
    "n_hidden2 = 64\n"
   ],
   "metadata": {
    "collapsed": false,
    "ExecuteTime": {
     "end_time": "2023-05-24T13:53:20.263423600Z",
     "start_time": "2023-05-24T13:53:20.252772500Z"
    }
   }
  },
  {
   "cell_type": "code",
   "execution_count": 844,
   "outputs": [],
   "source": [
    "# with tf.name_scope(\"first hidden layer\"):\n",
    "#     initial_w1 = tf.truncated_normal([TOTAL_INPUTS, n_hidden1], stddev=0.1, seed=42)\n",
    "#     w1 = tf.Variable(initial_w1, name=\"w1\")\n",
    "#     initial_b1 = tf.constant(value=0.0, shape=[n_hidden1])\n",
    "#     b1 = tf.Variable(initial_b1, name='b1')\n",
    "#\n",
    "#     layer1_in =  tf.matmul(X, w1) + b1\n",
    "#     layer1_out = tf.nn.relu(layer1_in)"
   ],
   "metadata": {
    "collapsed": false,
    "ExecuteTime": {
     "end_time": "2023-05-24T13:53:20.351731Z",
     "start_time": "2023-05-24T13:53:20.266373100Z"
    }
   }
  },
  {
   "cell_type": "code",
   "execution_count": 845,
   "outputs": [],
   "source": [
    "# with tf.name_scope('second hidden layer'):\n",
    "#     initial_w2 = tf.truncated_normal([n_hidden1, n_hidden2], stddev=0.1, seed=42)\n",
    "#     w2 = tf.Variable(initial_w2, name=\"w2\")\n",
    "#     initial_b2 = tf.constant(value=0.0, shape=[n_hidden2])\n",
    "#     b2 = tf.Variable(initial_b2, name=\"b2\")\n",
    "#     layer2_in =  tf.matmul(layer1_out, w2) + b2\n",
    "#     layer2_out = tf.nn.relu(layer2_in)"
   ],
   "metadata": {
    "collapsed": false,
    "ExecuteTime": {
     "end_time": "2023-05-24T13:53:20.351731Z",
     "start_time": "2023-05-24T13:53:20.286532800Z"
    }
   }
  },
  {
   "cell_type": "code",
   "execution_count": 846,
   "outputs": [],
   "source": [
    "# with tf.name_scope('output layer'):\n",
    "#     initial_w3 = tf.truncated_normal([n_hidden2, NR_CLASSES], stddev=0.1, seed=42) # the first element is the prev layer and the second is the current layer\n",
    "#\n",
    "#     w3 = tf.Variable(initial_w3, name=\"w3\")\n",
    "#     initial_b3 = tf.constant(value=0.0, shape=[NR_CLASSES]) # shape is the current layer\n",
    "#     b3 = tf.Variable(initial_b3, name=\"b3\")\n",
    "#     layer3_in =  tf.matmul(layer2_out, w3) + b3\n",
    "#     output = tf.nn.softmax(layer3_in)"
   ],
   "metadata": {
    "collapsed": false,
    "ExecuteTime": {
     "end_time": "2023-05-24T13:53:20.352730900Z",
     "start_time": "2023-05-24T13:53:20.297678300Z"
    }
   }
  },
  {
   "cell_type": "code",
   "execution_count": 847,
   "outputs": [],
   "source": [
    "def setup_layer(input, weight_dim,bias_dim, name):\n",
    "    with tf.name_scope(name):\n",
    "        initial_w = tf.truncated_normal(weight_dim, stddev=0.1, seed=42) # the first element is the prev layer and the second is the current layer\n",
    "        w = tf.Variable(initial_w, name=\"w\")\n",
    "        initial_b = tf.constant(value=0.0, shape=bias_dim) # shape is the current layer\n",
    "        b = tf.Variable(initial_b, name=\"b\")\n",
    "        layer_in =  tf.matmul(input, w) + b\n",
    "        if name == 'out':\n",
    "            layer_out = tf.nn.softmax(layer_in)\n",
    "        else:\n",
    "            layer_out = tf.nn.relu(layer_in)\n",
    "\n",
    "            tf.summary.histogram('weights', w)\n",
    "            tf.summary.histogram('biases', b)\n",
    "        return layer_out"
   ],
   "metadata": {
    "collapsed": false,
    "ExecuteTime": {
     "end_time": "2023-05-24T13:53:20.352730900Z",
     "start_time": "2023-05-24T13:53:20.314518500Z"
    }
   }
  },
  {
   "cell_type": "code",
   "execution_count": 848,
   "outputs": [],
   "source": [
    "# layer_1 = setup_layer(X, [TOTAL_INPUTS, n_hidden1], [n_hidden1], 'layer_1')\n",
    "# layer_2 = setup_layer(layer_1, [n_hidden1, n_hidden2], [n_hidden2], 'layer_2')\n",
    "# output = setup_layer(layer_2, [n_hidden2, NR_CLASSES], [NR_CLASSES], 'out')\n",
    "#\n",
    "# model_name = f'{n_hidden1}-{n_hidden2} LR {learning_rate} E{nr_epochs}'\n"
   ],
   "metadata": {
    "collapsed": false,
    "ExecuteTime": {
     "end_time": "2023-05-24T13:53:20.352730900Z",
     "start_time": "2023-05-24T13:53:20.327097800Z"
    }
   }
  },
  {
   "cell_type": "code",
   "execution_count": 849,
   "outputs": [],
   "source": [
    "layer_1 = setup_layer(X, [TOTAL_INPUTS, n_hidden1], [n_hidden1], 'layer_1')\n",
    "layer_drop = tf.nn.dropout(layer_1, keep_prob=0.8,name='dropout_layer')\n",
    "layer_2 = setup_layer(layer_drop, [n_hidden1, n_hidden2], [n_hidden2], 'layer_2')\n",
    "output = setup_layer(layer_2, [n_hidden2, NR_CLASSES], [NR_CLASSES], 'out')\n",
    "\n",
    "model_name = f'{n_hidden1}-{n_hidden2} LR {learning_rate} E{nr_epochs}'\n"
   ],
   "metadata": {
    "collapsed": false,
    "ExecuteTime": {
     "end_time": "2023-05-24T13:53:20.421581700Z",
     "start_time": "2023-05-24T13:53:20.347207Z"
    }
   }
  },
  {
   "cell_type": "markdown",
   "source": [
    "# TensorBoard Setup"
   ],
   "metadata": {
    "collapsed": false
   }
  },
  {
   "cell_type": "code",
   "execution_count": 850,
   "outputs": [
    {
     "name": "stdout",
     "output_type": "stream",
     "text": [
      "worked!\n"
     ]
    }
   ],
   "source": [
    "invalid_chars = '/\\:*?\"<>|'  # Add any other invalid characters specific to your system\n",
    "folder_name = f'{model_name} at {strftime(\"%H:%M\")}'  # Use a valid separator like a hyphen (-)\n",
    "for char in invalid_chars:\n",
    "    folder_name = folder_name.replace(char, '_')\n",
    "\n",
    "directory = os.path.join(LOGGING_PATH, folder_name)\n",
    "\n",
    "try:\n",
    "    os.makedirs(directory)\n",
    "except OSError as exception:\n",
    "    print(exception.strerror)\n",
    "else:\n",
    "    print(\"worked!\")"
   ],
   "metadata": {
    "collapsed": false,
    "ExecuteTime": {
     "end_time": "2023-05-24T13:53:20.434753700Z",
     "start_time": "2023-05-24T13:53:20.424549600Z"
    }
   }
  },
  {
   "cell_type": "code",
   "execution_count": 850,
   "outputs": [],
   "source": [],
   "metadata": {
    "collapsed": false,
    "ExecuteTime": {
     "end_time": "2023-05-24T13:53:20.533501500Z",
     "start_time": "2023-05-24T13:53:20.436708600Z"
    }
   }
  },
  {
   "cell_type": "code",
   "execution_count": 850,
   "outputs": [],
   "source": [],
   "metadata": {
    "collapsed": false,
    "ExecuteTime": {
     "end_time": "2023-05-24T13:53:20.546101300Z",
     "start_time": "2023-05-24T13:53:20.452951400Z"
    }
   }
  },
  {
   "cell_type": "markdown",
   "source": [
    "# Loss, Optimisation and Metrics\n",
    "\n",
    "#### Defining Loss function"
   ],
   "metadata": {
    "collapsed": false
   }
  },
  {
   "cell_type": "code",
   "execution_count": 851,
   "outputs": [],
   "source": [
    "loss = tf.reduce_mean(tf.nn.softmax_cross_entropy_with_logits_v2(labels=Y, logits=output))"
   ],
   "metadata": {
    "collapsed": false,
    "ExecuteTime": {
     "end_time": "2023-05-24T13:53:20.557720400Z",
     "start_time": "2023-05-24T13:53:20.477700800Z"
    }
   }
  },
  {
   "cell_type": "markdown",
   "source": [
    "#### Defining an optimiser"
   ],
   "metadata": {
    "collapsed": false
   }
  },
  {
   "cell_type": "code",
   "execution_count": 852,
   "outputs": [],
   "source": [
    "with tf.name_scope(\"optimizer\"):\n",
    "    optimizer = tf.train.AdamOptimizer(learning_rate)\n",
    "    train_step = optimizer.minimize(loss)"
   ],
   "metadata": {
    "collapsed": false,
    "ExecuteTime": {
     "end_time": "2023-05-24T13:53:20.727767600Z",
     "start_time": "2023-05-24T13:53:20.517729100Z"
    }
   }
  },
  {
   "cell_type": "markdown",
   "source": [
    "#### Accuracy Metric"
   ],
   "metadata": {
    "collapsed": false
   }
  },
  {
   "cell_type": "code",
   "execution_count": 853,
   "outputs": [],
   "source": [
    "with tf.name_scope(\"accuracy_calc\"):\n",
    "    correct_prediction = tf.equal(tf.argmax(output,axis=1), tf.argmax(Y,axis=1))\n",
    "    accuracy = tf.reduce_mean(tf.cast(correct_prediction, tf.float32))"
   ],
   "metadata": {
    "collapsed": false,
    "ExecuteTime": {
     "end_time": "2023-05-24T13:53:20.783686Z",
     "start_time": "2023-05-24T13:53:20.736255300Z"
    }
   }
  },
  {
   "cell_type": "code",
   "execution_count": 854,
   "outputs": [],
   "source": [
    "with tf.name_scope(\"performance\"):\n",
    "    tf.summary.scalar('accuracy', accuracy)\n",
    "    tf.summary.scalar('cost', loss)"
   ],
   "metadata": {
    "collapsed": false,
    "ExecuteTime": {
     "end_time": "2023-05-24T13:53:20.784685400Z",
     "start_time": "2023-05-24T13:53:20.764520800Z"
    }
   }
  },
  {
   "cell_type": "markdown",
   "source": [
    "#### Check Input Images in Tensorboard"
   ],
   "metadata": {
    "collapsed": false
   }
  },
  {
   "cell_type": "code",
   "execution_count": 855,
   "outputs": [],
   "source": [
    "with tf.name_scope('show_image'):\n",
    "    x_image = tf.reshape(X, [-1, 28, 28, 1])\n",
    "    tf.summary.image('image_input', x_image, max_outputs=4)"
   ],
   "metadata": {
    "collapsed": false,
    "ExecuteTime": {
     "end_time": "2023-05-24T13:53:20.790273400Z",
     "start_time": "2023-05-24T13:53:20.777059500Z"
    }
   }
  },
  {
   "cell_type": "markdown",
   "source": [
    "# Run Session"
   ],
   "metadata": {
    "collapsed": false
   }
  },
  {
   "cell_type": "code",
   "execution_count": 856,
   "outputs": [],
   "source": [
    "sess = tf.Session()"
   ],
   "metadata": {
    "collapsed": false,
    "ExecuteTime": {
     "end_time": "2023-05-24T13:53:20.857235200Z",
     "start_time": "2023-05-24T13:53:20.793223100Z"
    }
   }
  },
  {
   "cell_type": "markdown",
   "source": [
    "#### Setup Filewriter and merge Summaries\n"
   ],
   "metadata": {
    "collapsed": false
   }
  },
  {
   "cell_type": "code",
   "execution_count": 857,
   "outputs": [],
   "source": [
    "merged_summary = tf.summary.merge_all()\n",
    "\n",
    "train_writer = tf.summary.FileWriter(directory + '/train')\n",
    "train_writer.add_graph(sess.graph)\n",
    "\n",
    "validation_writer = tf.summary.FileWriter(directory + '/validation')"
   ],
   "metadata": {
    "collapsed": false,
    "ExecuteTime": {
     "end_time": "2023-05-24T13:53:21.055205700Z",
     "start_time": "2023-05-24T13:53:20.810266300Z"
    }
   }
  },
  {
   "cell_type": "markdown",
   "source": [
    "# Initalise Variables"
   ],
   "metadata": {
    "collapsed": false
   }
  },
  {
   "cell_type": "code",
   "execution_count": 858,
   "outputs": [],
   "source": [
    "init = tf.global_variables_initializer()\n",
    "sess.run(init)"
   ],
   "metadata": {
    "collapsed": false,
    "ExecuteTime": {
     "end_time": "2023-05-24T13:53:21.131957700Z",
     "start_time": "2023-05-24T13:53:21.057206800Z"
    }
   }
  },
  {
   "cell_type": "markdown",
   "source": [
    "# Batching the data"
   ],
   "metadata": {
    "collapsed": false
   }
  },
  {
   "cell_type": "code",
   "execution_count": 859,
   "outputs": [],
   "source": [
    "size_of_batch = 1000\n",
    "num_examples = y_train.shape[0]\n",
    "nr_iterations = int(num_examples/size_of_batch)\n",
    "index_in_epoch = 0\n"
   ],
   "metadata": {
    "collapsed": false,
    "ExecuteTime": {
     "end_time": "2023-05-24T13:53:21.146791400Z",
     "start_time": "2023-05-24T13:53:21.134959500Z"
    }
   }
  },
  {
   "cell_type": "code",
   "execution_count": 860,
   "outputs": [],
   "source": [
    "def next_batch(batch_size, data, labels):\n",
    "\n",
    "    global num_examples\n",
    "    global index_in_epoch\n",
    "\n",
    "    start = index_in_epoch\n",
    "    index_in_epoch += batch_size\n",
    "\n",
    "    if index_in_epoch > num_examples:\n",
    "        start = 0\n",
    "        index_in_epoch = batch_size\n",
    "\n",
    "    end = index_in_epoch\n",
    "\n",
    "    return data[start:end], labels[start:end]"
   ],
   "metadata": {
    "collapsed": false,
    "ExecuteTime": {
     "end_time": "2023-05-24T13:53:21.211967300Z",
     "start_time": "2023-05-24T13:53:21.152376200Z"
    }
   }
  },
  {
   "cell_type": "markdown",
   "source": [
    "### Training loop"
   ],
   "metadata": {
    "collapsed": false
   }
  },
  {
   "cell_type": "code",
   "execution_count": 861,
   "outputs": [
    {
     "name": "stdout",
     "output_type": "stream",
     "text": [
      "Epoch 0 \t| Training Accuracy = 0.8619999885559082\n",
      "Epoch 1 \t| Training Accuracy = 0.8809999823570251\n",
      "Epoch 2 \t| Training Accuracy = 0.9200000166893005\n",
      "Epoch 3 \t| Training Accuracy = 0.9629999995231628\n",
      "Epoch 4 \t| Training Accuracy = 0.9739999771118164\n",
      "Epoch 5 \t| Training Accuracy = 0.9760000109672546\n",
      "Epoch 6 \t| Training Accuracy = 0.9769999980926514\n",
      "Epoch 7 \t| Training Accuracy = 0.9800000190734863\n",
      "Epoch 8 \t| Training Accuracy = 0.9800000190734863\n",
      "Epoch 9 \t| Training Accuracy = 0.9800000190734863\n",
      "Epoch 10 \t| Training Accuracy = 0.9810000061988831\n",
      "Epoch 11 \t| Training Accuracy = 0.984000027179718\n",
      "Epoch 12 \t| Training Accuracy = 0.9860000014305115\n",
      "Epoch 13 \t| Training Accuracy = 0.9850000143051147\n",
      "Epoch 14 \t| Training Accuracy = 0.9869999885559082\n",
      "Epoch 15 \t| Training Accuracy = 0.9890000224113464\n",
      "Epoch 16 \t| Training Accuracy = 0.9900000095367432\n",
      "Epoch 17 \t| Training Accuracy = 0.9860000014305115\n",
      "Epoch 18 \t| Training Accuracy = 0.9900000095367432\n",
      "Epoch 19 \t| Training Accuracy = 0.9900000095367432\n",
      "Epoch 20 \t| Training Accuracy = 0.9909999966621399\n",
      "Epoch 21 \t| Training Accuracy = 0.9909999966621399\n",
      "Epoch 22 \t| Training Accuracy = 0.9909999966621399\n",
      "Epoch 23 \t| Training Accuracy = 0.9909999966621399\n",
      "Epoch 24 \t| Training Accuracy = 0.9909999966621399\n",
      "Epoch 25 \t| Training Accuracy = 0.9909999966621399\n",
      "Epoch 26 \t| Training Accuracy = 0.9909999966621399\n",
      "Epoch 27 \t| Training Accuracy = 0.9909999966621399\n",
      "Epoch 28 \t| Training Accuracy = 0.9909999966621399\n",
      "Epoch 29 \t| Training Accuracy = 0.9909999966621399\n",
      "Epoch 30 \t| Training Accuracy = 0.9909999966621399\n",
      "Epoch 31 \t| Training Accuracy = 0.9900000095367432\n",
      "Epoch 32 \t| Training Accuracy = 0.9909999966621399\n",
      "Epoch 33 \t| Training Accuracy = 0.9909999966621399\n",
      "Epoch 34 \t| Training Accuracy = 0.9919999837875366\n",
      "Epoch 35 \t| Training Accuracy = 0.9909999966621399\n",
      "Epoch 36 \t| Training Accuracy = 0.9919999837875366\n",
      "Epoch 37 \t| Training Accuracy = 0.9919999837875366\n",
      "Epoch 38 \t| Training Accuracy = 0.9909999966621399\n",
      "Epoch 39 \t| Training Accuracy = 0.9909999966621399\n",
      "Epoch 40 \t| Training Accuracy = 0.9919999837875366\n",
      "Epoch 41 \t| Training Accuracy = 0.9919999837875366\n",
      "Epoch 42 \t| Training Accuracy = 0.9919999837875366\n",
      "Epoch 43 \t| Training Accuracy = 0.9909999966621399\n",
      "Epoch 44 \t| Training Accuracy = 0.9919999837875366\n",
      "Epoch 45 \t| Training Accuracy = 0.9909999966621399\n",
      "Epoch 46 \t| Training Accuracy = 0.9919999837875366\n",
      "Epoch 47 \t| Training Accuracy = 0.9909999966621399\n",
      "Epoch 48 \t| Training Accuracy = 0.9919999837875366\n",
      "Epoch 49 \t| Training Accuracy = 0.9919999837875366\n",
      "Done training!\n"
     ]
    }
   ],
   "source": [
    "for epoch in range(nr_epochs):\n",
    "\n",
    "    # ============= Training Dataset =========\n",
    "    for i in range(nr_iterations):\n",
    "\n",
    "        batch_x, batch_y = next_batch(batch_size=size_of_batch, data=x_train, labels=y_train)\n",
    "\n",
    "        feed_dictionary = {X:batch_x, Y:batch_y}\n",
    "\n",
    "        sess.run(train_step, feed_dict=feed_dictionary)\n",
    "\n",
    "\n",
    "    s, batch_accuracy = sess.run(fetches=[merged_summary, accuracy], feed_dict=feed_dictionary)\n",
    "\n",
    "    train_writer.add_summary(s, epoch)\n",
    "\n",
    "    print(f'Epoch {epoch} \\t| Training Accuracy = {batch_accuracy}')\n",
    "\n",
    "    # ================== Validation ======================\n",
    "\n",
    "    summary = sess.run(fetches=merged_summary, feed_dict={X:x_val, Y:y_val})\n",
    "    validation_writer.add_summary(summary, epoch)\n",
    "\n",
    "print('Done training!')"
   ],
   "metadata": {
    "collapsed": false,
    "ExecuteTime": {
     "end_time": "2023-05-24T13:54:06.665558600Z",
     "start_time": "2023-05-24T13:53:21.164969500Z"
    }
   }
  },
  {
   "cell_type": "markdown",
   "source": [
    "# Make a prediction"
   ],
   "metadata": {
    "collapsed": false
   }
  },
  {
   "cell_type": "code",
   "execution_count": 862,
   "outputs": [],
   "source": [
    "img = Image.open('MNIST/test_img.png')\n",
    "bw = img.convert(\"L\")\n",
    "image_array = np.invert(bw)\n",
    "\n"
   ],
   "metadata": {
    "collapsed": false,
    "ExecuteTime": {
     "end_time": "2023-05-24T13:54:06.747790600Z",
     "start_time": "2023-05-24T13:54:06.669560Z"
    }
   }
  },
  {
   "cell_type": "code",
   "execution_count": 863,
   "outputs": [
    {
     "data": {
      "text/plain": "(784,)"
     },
     "execution_count": 863,
     "metadata": {},
     "output_type": "execute_result"
    }
   ],
   "source": [
    "test_image = image_array.ravel()\n",
    "test_image.shape\n"
   ],
   "metadata": {
    "collapsed": false,
    "ExecuteTime": {
     "end_time": "2023-05-24T13:54:06.750300600Z",
     "start_time": "2023-05-24T13:54:06.683071200Z"
    }
   }
  },
  {
   "cell_type": "code",
   "execution_count": 864,
   "outputs": [
    {
     "name": "stdout",
     "output_type": "stream",
     "text": [
      "prediction for test image is: [2]\n"
     ]
    }
   ],
   "source": [
    "prediction = sess.run(fetches=tf.argmax(output, axis=1), feed_dict={X: [test_image]})\n",
    "print(f\"prediction for test image is: {prediction}\")"
   ],
   "metadata": {
    "collapsed": false,
    "ExecuteTime": {
     "end_time": "2023-05-24T13:54:06.903197500Z",
     "start_time": "2023-05-24T13:54:06.717659200Z"
    }
   }
  },
  {
   "cell_type": "markdown",
   "source": [
    "# Testing and Evaluation"
   ],
   "metadata": {
    "collapsed": false
   }
  },
  {
   "cell_type": "code",
   "execution_count": 866,
   "outputs": [
    {
     "name": "stdout",
     "output_type": "stream",
     "text": [
      " test accuracy of: 0.00%\n"
     ]
    }
   ],
   "source": [
    "test_accuracy = sess.run(accuracy, feed_dict={X:x_test_all, Y:y_test})\n",
    "print(f\" test accuracy of: {0:.2f}%\".format(test_accuracy * 100))"
   ],
   "metadata": {
    "collapsed": false,
    "ExecuteTime": {
     "end_time": "2023-05-24T13:54:27.096689400Z",
     "start_time": "2023-05-24T13:54:26.941103Z"
    }
   }
  },
  {
   "cell_type": "markdown",
   "source": [
    "# Reset for the next run"
   ],
   "metadata": {
    "collapsed": false
   }
  },
  {
   "cell_type": "code",
   "execution_count": null,
   "outputs": [],
   "source": [
    "train_writer.close()\n",
    "validation_writer.close()\n",
    "sess.close()\n",
    "tf.reset_default_graph()"
   ],
   "metadata": {
    "collapsed": false,
    "ExecuteTime": {
     "start_time": "2023-05-24T13:54:06.857568200Z"
    }
   }
  },
  {
   "cell_type": "code",
   "execution_count": null,
   "outputs": [],
   "source": [],
   "metadata": {
    "collapsed": false,
    "ExecuteTime": {
     "start_time": "2023-05-24T13:54:06.864092500Z"
    }
   }
  }
 ],
 "metadata": {
  "kernelspec": {
   "display_name": "Python 3",
   "language": "python",
   "name": "python3"
  },
  "language_info": {
   "codemirror_mode": {
    "name": "ipython",
    "version": 2
   },
   "file_extension": ".py",
   "mimetype": "text/x-python",
   "name": "python",
   "nbconvert_exporter": "python",
   "pygments_lexer": "ipython2",
   "version": "2.7.6"
  }
 },
 "nbformat": 4,
 "nbformat_minor": 0
}
