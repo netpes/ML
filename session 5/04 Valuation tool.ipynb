{
 "cells": [
  {
   "cell_type": "code",
   "execution_count": 2,
   "outputs": [],
   "source": [
    "\n",
    "from sklearn.linear_model import LinearRegression\n",
    "from sklearn.metrics import mean_squared_error\n",
    "import matplotlib.pyplot as plt\n",
    "import pandas as pd\n",
    "import seaborn as sns\n",
    "import statsmodels.api as sm\n",
    "from statsmodels.stats.outliers_influence import variance_inflation_factor\n",
    "from sklearn.model_selection import train_test_split\n",
    "\n",
    "import numpy as np\n",
    "data_url = \"http://lib.stat.cmu.edu/datasets/boston\"\n",
    "raw_df = pd.read_csv(data_url, sep=\"\\s+\", skiprows=22, header=None)\n"
   ],
   "metadata": {
    "collapsed": false,
    "pycharm": {
     "name": "#%%\n"
    }
   }
  },
  {
   "cell_type": "code",
   "execution_count": 34,
   "outputs": [],
   "source": [
    "# Gather Data\n",
    "boston_dataset = np.hstack([raw_df.values[::2, :], raw_df.values[1::2, :2]])\n",
    "\n",
    "target = raw_df.values[1::2, 2]\n",
    "data = pd.DataFrame(boston_dataset)\n",
    "# data['PRICE'] = target\n",
    "data = data.rename(columns={0: \"CRIM\",  1: \"ZN\", 2: \"INDUS\", 3: \"CHAS\", 4: \"NOX\", 5: \"RM\", 6: \"AGE\", 7: \"DIS\", 8: \"RAD\", 9: \"TAX\", 10: \"PTRATIO\", 11: \"B\", 12: \"LSTAT\", 13: \"MEDV\"})"
   ],
   "metadata": {
    "collapsed": false,
    "pycharm": {
     "name": "#%%\n"
    }
   }
  },
  {
   "cell_type": "code",
   "execution_count": 35,
   "outputs": [],
   "source": [
    "features = data.drop(['INDUS', 'AGE'], axis=1)\n",
    "log_prices = np.log(target)\n",
    "target = pd.DataFrame(log_prices, columns=['PRICE'])"
   ],
   "metadata": {
    "collapsed": false,
    "pycharm": {
     "name": "#%%\n"
    }
   }
  },
  {
   "cell_type": "code",
   "execution_count": 38,
   "outputs": [],
   "source": [
    "property_stat = features.mean().values.reshape(1,11)"
   ],
   "metadata": {
    "collapsed": false,
    "pycharm": {
     "name": "#%%\n"
    }
   }
  },
  {
   "cell_type": "code",
   "execution_count": 39,
   "outputs": [],
   "source": [
    "regr = LinearRegression().fit(features,target)\n",
    "fitted_vals = regr.predict(features)\n",
    "MSE = mean_squared_error(target,fitted_vals)\n",
    "RMSE = np.sqrt(MSE)"
   ],
   "metadata": {
    "collapsed": false,
    "pycharm": {
     "name": "#%%\n"
    }
   }
  },
  {
   "cell_type": "code",
   "execution_count": 51,
   "outputs": [],
   "source": [
    "def get_log_estimate(nr_rooms,students_per_classroom, next_to_river=False,high_confidence=True):\n",
    "    # configure property\n",
    "    property_stat[0][4] = nr_rooms\n",
    "    property_stat[0][10] = students_per_classroom\n",
    "    if next_to_river:\n",
    "        property_stat[0][3] = 1\n",
    "    else:\n",
    "        property_stat[0][3] = 0\n",
    "    log_estimate = regr.predict(property_stat)\n",
    "\n",
    "    # clac range\n",
    "    if high_confidence:\n",
    "        upper_bound = log_estimate +2*np.sqrt(MSE)\n",
    "        lower_bound = log_estimate - 2*np.sqrt(MSE)\n",
    "        interval = 95\n",
    "    else:\n",
    "        upper_bound = log_estimate +np.sqrt(MSE)\n",
    "        lower_bound = log_estimate - np.sqrt(MSE)\n",
    "        interval = 68\n",
    "        #Do |Y\n",
    "    return log_estimate, upper_bound,lower_bound,interval"
   ],
   "metadata": {
    "collapsed": false,
    "pycharm": {
     "name": "#%%\n"
    }
   }
  },
  {
   "cell_type": "code",
   "execution_count": 52,
   "outputs": [
    {
     "name": "stderr",
     "output_type": "stream",
     "text": [
      "C:\\Users\\netan\\PycharmProjects\\ML\\venv\\Lib\\site-packages\\sklearn\\base.py:439: UserWarning: X does not have valid feature names, but LinearRegression was fitted with feature names\n",
      "  warnings.warn(\n"
     ]
    },
    {
     "data": {
      "text/plain": "(array([[3.04129835]]), array([[3.41632262]]), array([[2.66627407]]), 95)"
     },
     "execution_count": 52,
     "metadata": {},
     "output_type": "execute_result"
    }
   ],
   "source": [
    "get_log_estimate(3,16)"
   ],
   "metadata": {
    "collapsed": false,
    "pycharm": {
     "name": "#%%\n"
    }
   }
  },
  {
   "cell_type": "code",
   "execution_count": 68,
   "outputs": [],
   "source": [
    "def get_dollar_estimate(rm,ptration,chas=False, large_rang=True):\n",
    "    \"\"\"\n",
    "\n",
    "    :param rm: number of room\n",
    "    :param ptration: number of students per teachers\n",
    "    :param chas: True is the property is next to the river\n",
    "    :param large_rang: True for 95% prediction False for 68%\n",
    "    :return:\n",
    "    \"\"\"\n",
    "    if rm < 1 or ptration:\n",
    "        print(\"That is unrealistic try again\")\n",
    "        return\n",
    "    Zillow_median = 583.3\n",
    "    Scale_factor = Zillow_median / np.median(target)\n",
    "    log_est, upper, lower, conf = get_log_estimate(rm,ptration,chas, large_rang)\n",
    "\n",
    "    #convert to today dollars\n",
    "    dollar_est = np.e**log_est * 1000 * Scale_factor\n",
    "    dollar_high = np.e**upper * 1000 * Scale_factor\n",
    "    dollar_low = np.e**lower * 1000 * Scale_factor\n",
    "    # round to dollar value\n",
    "    rounded_est = np.around(dollar_est,-3)\n",
    "    rounded_hi = np.around(dollar_est,-3)\n",
    "    low = np.around(dollar_est,-3)"
   ],
   "metadata": {
    "collapsed": false,
    "pycharm": {
     "name": "#%%\n"
    }
   }
  },
  {
   "cell_type": "code",
   "execution_count": 66,
   "outputs": [],
   "source": [
    "get_dollar_estimate(2,200,chas=True)"
   ],
   "metadata": {
    "collapsed": false,
    "pycharm": {
     "name": "#%%\n"
    }
   }
  },
  {
   "cell_type": "code",
   "execution_count": null,
   "outputs": [],
   "source": [],
   "metadata": {
    "collapsed": false,
    "pycharm": {
     "name": "#%%\n"
    }
   }
  }
 ],
 "metadata": {
  "kernelspec": {
   "display_name": "Python 3",
   "language": "python",
   "name": "python3"
  },
  "language_info": {
   "codemirror_mode": {
    "name": "ipython",
    "version": 2
   },
   "file_extension": ".py",
   "mimetype": "text/x-python",
   "name": "python",
   "nbconvert_exporter": "python",
   "pygments_lexer": "ipython2",
   "version": "2.7.6"
  }
 },
 "nbformat": 4,
 "nbformat_minor": 0
}